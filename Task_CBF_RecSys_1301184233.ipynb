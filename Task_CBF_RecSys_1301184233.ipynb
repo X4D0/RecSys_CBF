{
  "nbformat": 4,
  "nbformat_minor": 0,
  "metadata": {
    "colab": {
      "name": "Task CBF RecSys_1301184233.ipynb",
      "provenance": [],
      "toc_visible": true,
      "include_colab_link": true
    },
    "kernelspec": {
      "name": "python3",
      "display_name": "Python 3"
    }
  },
  "cells": [
    {
      "cell_type": "markdown",
      "metadata": {
        "id": "view-in-github",
        "colab_type": "text"
      },
      "source": [
        "<a href=\"https://colab.research.google.com/github/X4D0/RecSys_CBF/blob/main/Task_CBF_RecSys_1301184233.ipynb\" target=\"_parent\"><img src=\"https://colab.research.google.com/assets/colab-badge.svg\" alt=\"Open In Colab\"/></a>"
      ]
    },
    {
      "cell_type": "markdown",
      "metadata": {
        "id": "Cb-pO2A9xSKV"
      },
      "source": [
        "#TASK: Please Implement the Recommender Systems Using The Songs dataset (created by all class members)\n",
        "\n",
        "1. Input: Song title (_st = \"Is It The Answer?\"), number of recomended songs (_nt = 10 )\n",
        "2. Process: calculate cosine similarity over TFIDF columns\n",
        "3. Returning: _nt songs which close to _st based on cosine similarity\n",
        "4. Powerpoint yang menjelaskan tugas TF/IDF dengan Cosine similarity\n",
        "\n",
        "Dataset Lagu dapat diisi dan dilihat pada: https://docs.google.com/spreadsheets/d/1vjszULKCcS4LPup3VJ9MofYPiYhcaoXTC4zdohLFwpQ/edit?usp=sharing\n",
        "\n",
        "\n"
      ]
    },
    {
      "cell_type": "markdown",
      "metadata": {
        "id": "A4oFazyemOOb"
      },
      "source": [
        "Nama : Rayhan Rahmanda<br>\n",
        "NIM : 1301184233<br>\n",
        "Kelas : IF-42-GAB02"
      ]
    },
    {
      "cell_type": "markdown",
      "metadata": {
        "id": "MdlVPUS2zbQO"
      },
      "source": [
        "## Read the data"
      ]
    },
    {
      "cell_type": "code",
      "metadata": {
        "id": "C5QjN2HlwEmo",
        "colab": {
          "base_uri": "https://localhost:8080/",
          "height": 203
        },
        "outputId": "6664b166-23ca-4a25-fb1f-fc2b1c50dec6"
      },
      "source": [
        "import pandas as pd\n",
        "import numpy as np\n",
        "\n",
        "df = pd.read_excel('https://docs.google.com/spreadsheets/d/' + \n",
        "                   '1Iv4DQM8zF7xehUAPgp7lPZRW2SZ88FEQV6PWPvqPxYc' +\n",
        "                   '/export?gid=0&format=xlsx')\n",
        "df.head()"
      ],
      "execution_count": 1,
      "outputs": [
        {
          "output_type": "execute_result",
          "data": {
            "text/html": [
              "<div>\n",
              "<style scoped>\n",
              "    .dataframe tbody tr th:only-of-type {\n",
              "        vertical-align: middle;\n",
              "    }\n",
              "\n",
              "    .dataframe tbody tr th {\n",
              "        vertical-align: top;\n",
              "    }\n",
              "\n",
              "    .dataframe thead th {\n",
              "        text-align: right;\n",
              "    }\n",
              "</style>\n",
              "<table border=\"1\" class=\"dataframe\">\n",
              "  <thead>\n",
              "    <tr style=\"text-align: right;\">\n",
              "      <th></th>\n",
              "      <th>NIM</th>\n",
              "      <th>Submisike</th>\n",
              "      <th>Artis</th>\n",
              "      <th>Judul</th>\n",
              "      <th>Lirik</th>\n",
              "    </tr>\n",
              "  </thead>\n",
              "  <tbody>\n",
              "    <tr>\n",
              "      <th>0</th>\n",
              "      <td>1301180229</td>\n",
              "      <td>1</td>\n",
              "      <td>Reality Club</td>\n",
              "      <td>Is It The Answer?</td>\n",
              "      <td>I make you break\\nYou move I take\\nLove is the...</td>\n",
              "    </tr>\n",
              "    <tr>\n",
              "      <th>1</th>\n",
              "      <td>1301180229</td>\n",
              "      <td>2</td>\n",
              "      <td>Simple Plan</td>\n",
              "      <td>Jet lag</td>\n",
              "      <td>Whoa, oh, oh\\nWhoa, oh, oh\\nSo jet-lagged\\n\\nW...</td>\n",
              "    </tr>\n",
              "    <tr>\n",
              "      <th>2</th>\n",
              "      <td>1301180229</td>\n",
              "      <td>3</td>\n",
              "      <td>The Script</td>\n",
              "      <td>Superheroes</td>\n",
              "      <td>All the life she has seen\\nAll the meaner side...</td>\n",
              "    </tr>\n",
              "    <tr>\n",
              "      <th>3</th>\n",
              "      <td>1301180229</td>\n",
              "      <td>4</td>\n",
              "      <td>The Script</td>\n",
              "      <td>Breakeven</td>\n",
              "      <td>I'm still alive but I'm barely breathing\\nJust...</td>\n",
              "    </tr>\n",
              "    <tr>\n",
              "      <th>4</th>\n",
              "      <td>1301180229</td>\n",
              "      <td>5</td>\n",
              "      <td>Green Day</td>\n",
              "      <td>21 Guns</td>\n",
              "      <td>Do you know what's worth fighting for,\\nWhen i...</td>\n",
              "    </tr>\n",
              "  </tbody>\n",
              "</table>\n",
              "</div>"
            ],
            "text/plain": [
              "          NIM  ...                                              Lirik\n",
              "0  1301180229  ...  I make you break\\nYou move I take\\nLove is the...\n",
              "1  1301180229  ...  Whoa, oh, oh\\nWhoa, oh, oh\\nSo jet-lagged\\n\\nW...\n",
              "2  1301180229  ...  All the life she has seen\\nAll the meaner side...\n",
              "3  1301180229  ...  I'm still alive but I'm barely breathing\\nJust...\n",
              "4  1301180229  ...  Do you know what's worth fighting for,\\nWhen i...\n",
              "\n",
              "[5 rows x 5 columns]"
            ]
          },
          "metadata": {},
          "execution_count": 1
        }
      ]
    },
    {
      "cell_type": "markdown",
      "metadata": {
        "id": "woRpyRP3MbBJ"
      },
      "source": [
        "## Pre-Processing Text"
      ]
    },
    {
      "cell_type": "markdown",
      "metadata": {
        "id": "Q7YDt3AyMfCb"
      },
      "source": [
        "### Lowercase, Remove Punctuation, Remove \"\\n\""
      ]
    },
    {
      "cell_type": "code",
      "metadata": {
        "colab": {
          "base_uri": "https://localhost:8080/",
          "height": 203
        },
        "id": "4fcwmyRAMcvV",
        "outputId": "8bbe2c3d-0ae0-448c-8cbb-3889b8bc1fba"
      },
      "source": [
        "import re\n",
        "import string \n",
        "\n",
        "# All words to lowercase\n",
        "df['Lirik'] = df['Lirik'].str.lower()\n",
        "\n",
        "# Remove tab, new line, ans back slice\n",
        "df['Lirik'] = [row.replace(\"\\n\",\" \") for row in df['Lirik']]\n",
        "\n",
        "# Remove Punctuation\n",
        "df['Lirik'] = [row.translate(str.maketrans(\"\",\"\",string.punctuation)) for row in df['Lirik']]\n",
        "\n",
        "# Remove Numbers\n",
        "df['Lirik'] = [re.sub(r'\\d+', '', row) for row in df['Lirik']]\n",
        "\n",
        "df.head()"
      ],
      "execution_count": 2,
      "outputs": [
        {
          "output_type": "execute_result",
          "data": {
            "text/html": [
              "<div>\n",
              "<style scoped>\n",
              "    .dataframe tbody tr th:only-of-type {\n",
              "        vertical-align: middle;\n",
              "    }\n",
              "\n",
              "    .dataframe tbody tr th {\n",
              "        vertical-align: top;\n",
              "    }\n",
              "\n",
              "    .dataframe thead th {\n",
              "        text-align: right;\n",
              "    }\n",
              "</style>\n",
              "<table border=\"1\" class=\"dataframe\">\n",
              "  <thead>\n",
              "    <tr style=\"text-align: right;\">\n",
              "      <th></th>\n",
              "      <th>NIM</th>\n",
              "      <th>Submisike</th>\n",
              "      <th>Artis</th>\n",
              "      <th>Judul</th>\n",
              "      <th>Lirik</th>\n",
              "    </tr>\n",
              "  </thead>\n",
              "  <tbody>\n",
              "    <tr>\n",
              "      <th>0</th>\n",
              "      <td>1301180229</td>\n",
              "      <td>1</td>\n",
              "      <td>Reality Club</td>\n",
              "      <td>Is It The Answer?</td>\n",
              "      <td>i make you break you move i take love is the a...</td>\n",
              "    </tr>\n",
              "    <tr>\n",
              "      <th>1</th>\n",
              "      <td>1301180229</td>\n",
              "      <td>2</td>\n",
              "      <td>Simple Plan</td>\n",
              "      <td>Jet lag</td>\n",
              "      <td>whoa oh oh whoa oh oh so jetlagged  what time ...</td>\n",
              "    </tr>\n",
              "    <tr>\n",
              "      <th>2</th>\n",
              "      <td>1301180229</td>\n",
              "      <td>3</td>\n",
              "      <td>The Script</td>\n",
              "      <td>Superheroes</td>\n",
              "      <td>all the life she has seen all the meaner side ...</td>\n",
              "    </tr>\n",
              "    <tr>\n",
              "      <th>3</th>\n",
              "      <td>1301180229</td>\n",
              "      <td>4</td>\n",
              "      <td>The Script</td>\n",
              "      <td>Breakeven</td>\n",
              "      <td>im still alive but im barely breathing just pr...</td>\n",
              "    </tr>\n",
              "    <tr>\n",
              "      <th>4</th>\n",
              "      <td>1301180229</td>\n",
              "      <td>5</td>\n",
              "      <td>Green Day</td>\n",
              "      <td>21 Guns</td>\n",
              "      <td>do you know whats worth fighting for when its ...</td>\n",
              "    </tr>\n",
              "  </tbody>\n",
              "</table>\n",
              "</div>"
            ],
            "text/plain": [
              "          NIM  ...                                              Lirik\n",
              "0  1301180229  ...  i make you break you move i take love is the a...\n",
              "1  1301180229  ...  whoa oh oh whoa oh oh so jetlagged  what time ...\n",
              "2  1301180229  ...  all the life she has seen all the meaner side ...\n",
              "3  1301180229  ...  im still alive but im barely breathing just pr...\n",
              "4  1301180229  ...  do you know whats worth fighting for when its ...\n",
              "\n",
              "[5 rows x 5 columns]"
            ]
          },
          "metadata": {},
          "execution_count": 2
        }
      ]
    },
    {
      "cell_type": "markdown",
      "metadata": {
        "id": "LUgo5-nopyNy"
      },
      "source": [
        "### Tokenizing"
      ]
    },
    {
      "cell_type": "code",
      "metadata": {
        "colab": {
          "base_uri": "https://localhost:8080/",
          "height": 238
        },
        "id": "EgsDpvTlp7o1",
        "outputId": "8dd92d7d-0bf3-49a2-fe01-6249917956fd"
      },
      "source": [
        "import nltk\n",
        "nltk.download('punkt')\n",
        "from nltk.tokenize import word_tokenize\n",
        "\n",
        "# Tokenize the Lyrics\n",
        "df['Tokens'] = df['Lirik'].apply(word_tokenize)\n",
        "\n",
        "df.head()"
      ],
      "execution_count": 3,
      "outputs": [
        {
          "output_type": "stream",
          "name": "stdout",
          "text": [
            "[nltk_data] Downloading package punkt to /root/nltk_data...\n",
            "[nltk_data]   Unzipping tokenizers/punkt.zip.\n"
          ]
        },
        {
          "output_type": "execute_result",
          "data": {
            "text/html": [
              "<div>\n",
              "<style scoped>\n",
              "    .dataframe tbody tr th:only-of-type {\n",
              "        vertical-align: middle;\n",
              "    }\n",
              "\n",
              "    .dataframe tbody tr th {\n",
              "        vertical-align: top;\n",
              "    }\n",
              "\n",
              "    .dataframe thead th {\n",
              "        text-align: right;\n",
              "    }\n",
              "</style>\n",
              "<table border=\"1\" class=\"dataframe\">\n",
              "  <thead>\n",
              "    <tr style=\"text-align: right;\">\n",
              "      <th></th>\n",
              "      <th>NIM</th>\n",
              "      <th>Submisike</th>\n",
              "      <th>Artis</th>\n",
              "      <th>Judul</th>\n",
              "      <th>Lirik</th>\n",
              "      <th>Tokens</th>\n",
              "    </tr>\n",
              "  </thead>\n",
              "  <tbody>\n",
              "    <tr>\n",
              "      <th>0</th>\n",
              "      <td>1301180229</td>\n",
              "      <td>1</td>\n",
              "      <td>Reality Club</td>\n",
              "      <td>Is It The Answer?</td>\n",
              "      <td>i make you break you move i take love is the a...</td>\n",
              "      <td>[i, make, you, break, you, move, i, take, love...</td>\n",
              "    </tr>\n",
              "    <tr>\n",
              "      <th>1</th>\n",
              "      <td>1301180229</td>\n",
              "      <td>2</td>\n",
              "      <td>Simple Plan</td>\n",
              "      <td>Jet lag</td>\n",
              "      <td>whoa oh oh whoa oh oh so jetlagged  what time ...</td>\n",
              "      <td>[whoa, oh, oh, whoa, oh, oh, so, jetlagged, wh...</td>\n",
              "    </tr>\n",
              "    <tr>\n",
              "      <th>2</th>\n",
              "      <td>1301180229</td>\n",
              "      <td>3</td>\n",
              "      <td>The Script</td>\n",
              "      <td>Superheroes</td>\n",
              "      <td>all the life she has seen all the meaner side ...</td>\n",
              "      <td>[all, the, life, she, has, seen, all, the, mea...</td>\n",
              "    </tr>\n",
              "    <tr>\n",
              "      <th>3</th>\n",
              "      <td>1301180229</td>\n",
              "      <td>4</td>\n",
              "      <td>The Script</td>\n",
              "      <td>Breakeven</td>\n",
              "      <td>im still alive but im barely breathing just pr...</td>\n",
              "      <td>[im, still, alive, but, im, barely, breathing,...</td>\n",
              "    </tr>\n",
              "    <tr>\n",
              "      <th>4</th>\n",
              "      <td>1301180229</td>\n",
              "      <td>5</td>\n",
              "      <td>Green Day</td>\n",
              "      <td>21 Guns</td>\n",
              "      <td>do you know whats worth fighting for when its ...</td>\n",
              "      <td>[do, you, know, whats, worth, fighting, for, w...</td>\n",
              "    </tr>\n",
              "  </tbody>\n",
              "</table>\n",
              "</div>"
            ],
            "text/plain": [
              "          NIM  ...                                             Tokens\n",
              "0  1301180229  ...  [i, make, you, break, you, move, i, take, love...\n",
              "1  1301180229  ...  [whoa, oh, oh, whoa, oh, oh, so, jetlagged, wh...\n",
              "2  1301180229  ...  [all, the, life, she, has, seen, all, the, mea...\n",
              "3  1301180229  ...  [im, still, alive, but, im, barely, breathing,...\n",
              "4  1301180229  ...  [do, you, know, whats, worth, fighting, for, w...\n",
              "\n",
              "[5 rows x 6 columns]"
            ]
          },
          "metadata": {},
          "execution_count": 3
        }
      ]
    },
    {
      "cell_type": "markdown",
      "metadata": {
        "id": "W4syYCZksWnm"
      },
      "source": [
        "### Remove Stopwords"
      ]
    },
    {
      "cell_type": "code",
      "metadata": {
        "colab": {
          "base_uri": "https://localhost:8080/",
          "height": 238
        },
        "id": "yuJ8X2eqsYE-",
        "outputId": "b42c908d-9c9f-44a9-f991-7bd286e762cc"
      },
      "source": [
        "# Removing Stopwords & Punctuation\n",
        "nltk.download('stopwords')\n",
        "from nltk.corpus import stopwords\n",
        "\n",
        "filtered_words = []\n",
        "for row in df['Tokens']:\n",
        "    filtered_words.append([\n",
        "        word.lower() for word in row\n",
        "        if word.lower() not in nltk.corpus.stopwords.words('english')\n",
        "    ])\n",
        "\n",
        "df['Tokens'] = filtered_words\n",
        "df.head()"
      ],
      "execution_count": 4,
      "outputs": [
        {
          "output_type": "stream",
          "name": "stdout",
          "text": [
            "[nltk_data] Downloading package stopwords to /root/nltk_data...\n",
            "[nltk_data]   Unzipping corpora/stopwords.zip.\n"
          ]
        },
        {
          "output_type": "execute_result",
          "data": {
            "text/html": [
              "<div>\n",
              "<style scoped>\n",
              "    .dataframe tbody tr th:only-of-type {\n",
              "        vertical-align: middle;\n",
              "    }\n",
              "\n",
              "    .dataframe tbody tr th {\n",
              "        vertical-align: top;\n",
              "    }\n",
              "\n",
              "    .dataframe thead th {\n",
              "        text-align: right;\n",
              "    }\n",
              "</style>\n",
              "<table border=\"1\" class=\"dataframe\">\n",
              "  <thead>\n",
              "    <tr style=\"text-align: right;\">\n",
              "      <th></th>\n",
              "      <th>NIM</th>\n",
              "      <th>Submisike</th>\n",
              "      <th>Artis</th>\n",
              "      <th>Judul</th>\n",
              "      <th>Lirik</th>\n",
              "      <th>Tokens</th>\n",
              "    </tr>\n",
              "  </thead>\n",
              "  <tbody>\n",
              "    <tr>\n",
              "      <th>0</th>\n",
              "      <td>1301180229</td>\n",
              "      <td>1</td>\n",
              "      <td>Reality Club</td>\n",
              "      <td>Is It The Answer?</td>\n",
              "      <td>i make you break you move i take love is the a...</td>\n",
              "      <td>[make, break, move, take, love, answer, say, w...</td>\n",
              "    </tr>\n",
              "    <tr>\n",
              "      <th>1</th>\n",
              "      <td>1301180229</td>\n",
              "      <td>2</td>\n",
              "      <td>Simple Plan</td>\n",
              "      <td>Jet lag</td>\n",
              "      <td>whoa oh oh whoa oh oh so jetlagged  what time ...</td>\n",
              "      <td>[whoa, oh, oh, whoa, oh, oh, jetlagged, time, ...</td>\n",
              "    </tr>\n",
              "    <tr>\n",
              "      <th>2</th>\n",
              "      <td>1301180229</td>\n",
              "      <td>3</td>\n",
              "      <td>The Script</td>\n",
              "      <td>Superheroes</td>\n",
              "      <td>all the life she has seen all the meaner side ...</td>\n",
              "      <td>[life, seen, meaner, side, took, away, prophet...</td>\n",
              "    </tr>\n",
              "    <tr>\n",
              "      <th>3</th>\n",
              "      <td>1301180229</td>\n",
              "      <td>4</td>\n",
              "      <td>The Script</td>\n",
              "      <td>Breakeven</td>\n",
              "      <td>im still alive but im barely breathing just pr...</td>\n",
              "      <td>[im, still, alive, im, barely, breathing, pray...</td>\n",
              "    </tr>\n",
              "    <tr>\n",
              "      <th>4</th>\n",
              "      <td>1301180229</td>\n",
              "      <td>5</td>\n",
              "      <td>Green Day</td>\n",
              "      <td>21 Guns</td>\n",
              "      <td>do you know whats worth fighting for when its ...</td>\n",
              "      <td>[know, whats, worth, fighting, worth, dying, t...</td>\n",
              "    </tr>\n",
              "  </tbody>\n",
              "</table>\n",
              "</div>"
            ],
            "text/plain": [
              "          NIM  ...                                             Tokens\n",
              "0  1301180229  ...  [make, break, move, take, love, answer, say, w...\n",
              "1  1301180229  ...  [whoa, oh, oh, whoa, oh, oh, jetlagged, time, ...\n",
              "2  1301180229  ...  [life, seen, meaner, side, took, away, prophet...\n",
              "3  1301180229  ...  [im, still, alive, im, barely, breathing, pray...\n",
              "4  1301180229  ...  [know, whats, worth, fighting, worth, dying, t...\n",
              "\n",
              "[5 rows x 6 columns]"
            ]
          },
          "metadata": {},
          "execution_count": 4
        }
      ]
    },
    {
      "cell_type": "markdown",
      "metadata": {
        "id": "ABcHUCRwdvP_"
      },
      "source": [
        "### Lemmatization"
      ]
    },
    {
      "cell_type": "code",
      "metadata": {
        "colab": {
          "base_uri": "https://localhost:8080/",
          "height": 238
        },
        "id": "Ls-jhMOYdx3v",
        "outputId": "b91bfe2f-bb12-4342-b03f-a64e7399af2e"
      },
      "source": [
        "# Setting the Lemmatization object\n",
        "nltk.download(\"wordnet\")\n",
        "lmtzr = nltk.stem.wordnet.WordNetLemmatizer()\n",
        "\n",
        "# Looping through the words and appending the lemmatized version to a list\n",
        "stemmed_words = []\n",
        "for row in df['Tokens']:\n",
        "    stemmed_words.append([\n",
        "        # Verbs\n",
        "        lmtzr.lemmatize(  \n",
        "            # Adjectives\n",
        "            lmtzr.lemmatize(  \n",
        "                # Nouns\n",
        "                lmtzr.lemmatize(word.lower()), 'a'), 'v')\n",
        "        for word in row\n",
        "        if word.lower() not in nltk.corpus.stopwords.words('english')])\n",
        "\n",
        "# Adding the list as a column in the data frame\n",
        "df['Tokens'] = stemmed_words\n",
        "df.head()"
      ],
      "execution_count": 5,
      "outputs": [
        {
          "output_type": "stream",
          "name": "stdout",
          "text": [
            "[nltk_data] Downloading package wordnet to /root/nltk_data...\n",
            "[nltk_data]   Unzipping corpora/wordnet.zip.\n"
          ]
        },
        {
          "output_type": "execute_result",
          "data": {
            "text/html": [
              "<div>\n",
              "<style scoped>\n",
              "    .dataframe tbody tr th:only-of-type {\n",
              "        vertical-align: middle;\n",
              "    }\n",
              "\n",
              "    .dataframe tbody tr th {\n",
              "        vertical-align: top;\n",
              "    }\n",
              "\n",
              "    .dataframe thead th {\n",
              "        text-align: right;\n",
              "    }\n",
              "</style>\n",
              "<table border=\"1\" class=\"dataframe\">\n",
              "  <thead>\n",
              "    <tr style=\"text-align: right;\">\n",
              "      <th></th>\n",
              "      <th>NIM</th>\n",
              "      <th>Submisike</th>\n",
              "      <th>Artis</th>\n",
              "      <th>Judul</th>\n",
              "      <th>Lirik</th>\n",
              "      <th>Tokens</th>\n",
              "    </tr>\n",
              "  </thead>\n",
              "  <tbody>\n",
              "    <tr>\n",
              "      <th>0</th>\n",
              "      <td>1301180229</td>\n",
              "      <td>1</td>\n",
              "      <td>Reality Club</td>\n",
              "      <td>Is It The Answer?</td>\n",
              "      <td>i make you break you move i take love is the a...</td>\n",
              "      <td>[make, break, move, take, love, answer, say, g...</td>\n",
              "    </tr>\n",
              "    <tr>\n",
              "      <th>1</th>\n",
              "      <td>1301180229</td>\n",
              "      <td>2</td>\n",
              "      <td>Simple Plan</td>\n",
              "      <td>Jet lag</td>\n",
              "      <td>whoa oh oh whoa oh oh so jetlagged  what time ...</td>\n",
              "      <td>[whoa, oh, oh, whoa, oh, oh, jetlagged, time, ...</td>\n",
              "    </tr>\n",
              "    <tr>\n",
              "      <th>2</th>\n",
              "      <td>1301180229</td>\n",
              "      <td>3</td>\n",
              "      <td>The Script</td>\n",
              "      <td>Superheroes</td>\n",
              "      <td>all the life she has seen all the meaner side ...</td>\n",
              "      <td>[life, see, mean, side, take, away, prophet, d...</td>\n",
              "    </tr>\n",
              "    <tr>\n",
              "      <th>3</th>\n",
              "      <td>1301180229</td>\n",
              "      <td>4</td>\n",
              "      <td>The Script</td>\n",
              "      <td>Breakeven</td>\n",
              "      <td>im still alive but im barely breathing just pr...</td>\n",
              "      <td>[im, still, alive, im, barely, breathe, prayin...</td>\n",
              "    </tr>\n",
              "    <tr>\n",
              "      <th>4</th>\n",
              "      <td>1301180229</td>\n",
              "      <td>5</td>\n",
              "      <td>Green Day</td>\n",
              "      <td>21 Guns</td>\n",
              "      <td>do you know whats worth fighting for when its ...</td>\n",
              "      <td>[know, whats, worth, fight, worth, die, take, ...</td>\n",
              "    </tr>\n",
              "  </tbody>\n",
              "</table>\n",
              "</div>"
            ],
            "text/plain": [
              "          NIM  ...                                             Tokens\n",
              "0  1301180229  ...  [make, break, move, take, love, answer, say, g...\n",
              "1  1301180229  ...  [whoa, oh, oh, whoa, oh, oh, jetlagged, time, ...\n",
              "2  1301180229  ...  [life, see, mean, side, take, away, prophet, d...\n",
              "3  1301180229  ...  [im, still, alive, im, barely, breathe, prayin...\n",
              "4  1301180229  ...  [know, whats, worth, fight, worth, die, take, ...\n",
              "\n",
              "[5 rows x 6 columns]"
            ]
          },
          "metadata": {},
          "execution_count": 5
        }
      ]
    },
    {
      "cell_type": "code",
      "metadata": {
        "colab": {
          "base_uri": "https://localhost:8080/",
          "height": 237
        },
        "id": "cYrcaSm3ewtD",
        "outputId": "bf6620bd-fcd7-45c0-cfe6-6e91cfd89c17"
      },
      "source": [
        "stemmed_sentences = []\n",
        "\n",
        "# Spacing out the words in the reviews for each restaurant\n",
        "for row in df['Tokens']:\n",
        "    stemmed_string = ''\n",
        "    for word in row:\n",
        "        stemmed_string = stemmed_string + ' ' + word\n",
        "    stemmed_sentences.append(stemmed_string)\n",
        "    \n",
        "df['Tokens'] = stemmed_sentences\n",
        "df.head()"
      ],
      "execution_count": 6,
      "outputs": [
        {
          "output_type": "execute_result",
          "data": {
            "text/html": [
              "<div>\n",
              "<style scoped>\n",
              "    .dataframe tbody tr th:only-of-type {\n",
              "        vertical-align: middle;\n",
              "    }\n",
              "\n",
              "    .dataframe tbody tr th {\n",
              "        vertical-align: top;\n",
              "    }\n",
              "\n",
              "    .dataframe thead th {\n",
              "        text-align: right;\n",
              "    }\n",
              "</style>\n",
              "<table border=\"1\" class=\"dataframe\">\n",
              "  <thead>\n",
              "    <tr style=\"text-align: right;\">\n",
              "      <th></th>\n",
              "      <th>NIM</th>\n",
              "      <th>Submisike</th>\n",
              "      <th>Artis</th>\n",
              "      <th>Judul</th>\n",
              "      <th>Lirik</th>\n",
              "      <th>Tokens</th>\n",
              "    </tr>\n",
              "  </thead>\n",
              "  <tbody>\n",
              "    <tr>\n",
              "      <th>0</th>\n",
              "      <td>1301180229</td>\n",
              "      <td>1</td>\n",
              "      <td>Reality Club</td>\n",
              "      <td>Is It The Answer?</td>\n",
              "      <td>i make you break you move i take love is the a...</td>\n",
              "      <td>make break move take love answer say go away ...</td>\n",
              "    </tr>\n",
              "    <tr>\n",
              "      <th>1</th>\n",
              "      <td>1301180229</td>\n",
              "      <td>2</td>\n",
              "      <td>Simple Plan</td>\n",
              "      <td>Jet lag</td>\n",
              "      <td>whoa oh oh whoa oh oh so jetlagged  what time ...</td>\n",
              "      <td>whoa oh oh whoa oh oh jetlagged time miss any...</td>\n",
              "    </tr>\n",
              "    <tr>\n",
              "      <th>2</th>\n",
              "      <td>1301180229</td>\n",
              "      <td>3</td>\n",
              "      <td>The Script</td>\n",
              "      <td>Superheroes</td>\n",
              "      <td>all the life she has seen all the meaner side ...</td>\n",
              "      <td>life see mean side take away prophet dream pr...</td>\n",
              "    </tr>\n",
              "    <tr>\n",
              "      <th>3</th>\n",
              "      <td>1301180229</td>\n",
              "      <td>4</td>\n",
              "      <td>The Script</td>\n",
              "      <td>Breakeven</td>\n",
              "      <td>im still alive but im barely breathing just pr...</td>\n",
              "      <td>im still alive im barely breathe prayin god d...</td>\n",
              "    </tr>\n",
              "    <tr>\n",
              "      <th>4</th>\n",
              "      <td>1301180229</td>\n",
              "      <td>5</td>\n",
              "      <td>Green Day</td>\n",
              "      <td>21 Guns</td>\n",
              "      <td>do you know whats worth fighting for when its ...</td>\n",
              "      <td>know whats worth fight worth die take breath ...</td>\n",
              "    </tr>\n",
              "  </tbody>\n",
              "</table>\n",
              "</div>"
            ],
            "text/plain": [
              "          NIM  ...                                             Tokens\n",
              "0  1301180229  ...   make break move take love answer say go away ...\n",
              "1  1301180229  ...   whoa oh oh whoa oh oh jetlagged time miss any...\n",
              "2  1301180229  ...   life see mean side take away prophet dream pr...\n",
              "3  1301180229  ...   im still alive im barely breathe prayin god d...\n",
              "4  1301180229  ...   know whats worth fight worth die take breath ...\n",
              "\n",
              "[5 rows x 6 columns]"
            ]
          },
          "metadata": {},
          "execution_count": 6
        }
      ]
    },
    {
      "cell_type": "markdown",
      "metadata": {
        "id": "gwmoWotOfxJM"
      },
      "source": [
        "## TF-IDF and Cosine Similarity"
      ]
    },
    {
      "cell_type": "code",
      "metadata": {
        "colab": {
          "base_uri": "https://localhost:8080/"
        },
        "id": "fpnm63NZf0IH",
        "outputId": "05c52d4d-0dac-483f-ac35-6517129e410f"
      },
      "source": [
        "from sklearn.metrics.pairwise import cosine_similarity\n",
        "from sklearn.feature_extraction.text import TfidfVectorizer\n",
        "\n",
        "# Set \"Judul\" as Index\n",
        "df.set_index('Judul', inplace=True)\n",
        "# TF-IDF\n",
        "tf = TfidfVectorizer(analyzer='word', ngram_range=(1, 3), min_df=0, stop_words='english')\n",
        "tfidf_matrix = tf.fit_transform(df['Tokens'])\n",
        "# Cosine Similarity\n",
        "cos_sim = cosine_similarity(tfidf_matrix, tfidf_matrix)\n",
        "cos_sim"
      ],
      "execution_count": 7,
      "outputs": [
        {
          "output_type": "execute_result",
          "data": {
            "text/plain": [
              "array([[1.        , 0.00535797, 0.00986331, ..., 0.0198553 , 0.00995391,\n",
              "        0.03753962],\n",
              "       [0.00535797, 1.        , 0.01002504, ..., 0.00192688, 0.01334401,\n",
              "        0.00586109],\n",
              "       [0.00986331, 0.01002504, 1.        , ..., 0.00244596, 0.00510894,\n",
              "        0.00566061],\n",
              "       ...,\n",
              "       [0.0198553 , 0.00192688, 0.00244596, ..., 1.        , 0.00129794,\n",
              "        0.00807914],\n",
              "       [0.00995391, 0.01334401, 0.00510894, ..., 0.00129794, 1.        ,\n",
              "        0.00645579],\n",
              "       [0.03753962, 0.00586109, 0.00566061, ..., 0.00807914, 0.00645579,\n",
              "        1.        ]])"
            ]
          },
          "metadata": {},
          "execution_count": 7
        }
      ]
    },
    {
      "cell_type": "markdown",
      "metadata": {
        "id": "b9sjWODRhqZx"
      },
      "source": [
        "## \"Judul\" as Index"
      ]
    },
    {
      "cell_type": "code",
      "metadata": {
        "colab": {
          "base_uri": "https://localhost:8080/"
        },
        "id": "A4IarUQYhs0j",
        "outputId": "ae906d09-c025-451b-a1ad-58cab82ea0a8"
      },
      "source": [
        "indices = pd.Series(df.index)\n",
        "indices[:10]"
      ],
      "execution_count": 8,
      "outputs": [
        {
          "output_type": "execute_result",
          "data": {
            "text/plain": [
              "0                  Is It The Answer?\n",
              "1                            Jet lag\n",
              "2                        Superheroes\n",
              "3                          Breakeven\n",
              "4                            21 Guns\n",
              "5     Wake me up when September Ends\n",
              "6    You're Gonna Live Forever in Me\n",
              "7                              Day 1\n",
              "8                     Like me better\n",
              "9                               Maps\n",
              "Name: Judul, dtype: object"
            ]
          },
          "metadata": {},
          "execution_count": 8
        }
      ]
    },
    {
      "cell_type": "markdown",
      "metadata": {
        "id": "UkCRIEXN1nZp"
      },
      "source": [
        "## Recommend the film"
      ]
    },
    {
      "cell_type": "code",
      "metadata": {
        "id": "oPoab_JjwIHq"
      },
      "source": [
        "def recommendations(songtitle, numberrec, cos_sim = cos_sim):\n",
        "    '''\n",
        "    input : one songs title, the cosine matrix and number of recommendations\n",
        "\n",
        "    output : list of n songs (the title) that similar with the input song\n",
        "    '''\n",
        "    recommended_songs = []\n",
        "\n",
        "    # Cek songs title in dataset\n",
        "    if (songtitle.casefold() == indices.str.casefold()).any():\n",
        "      # Mengambil songs title berdasarkan variabel indicies\n",
        "      idx = indices[indices.str.casefold() == songtitle.casefold()].index[0]\n",
        "    \n",
        "      # Membuat series berdasarkan skor kesamaan\n",
        "      score_series = pd.Series(cos_sim[idx]).sort_values(ascending = False)\n",
        "\n",
        "      # mengambil index dan dibuat 10 baris rekomendasi terbaik\n",
        "      numberrec_indexes = list(score_series.iloc[1:numberrec+1].index)\n",
        "      \n",
        "      for i in numberrec_indexes:\n",
        "          recommended_songs.append(list(df.index)[i])\n",
        "          \n",
        "      return recommended_songs\n",
        "    else:\n",
        "      return \"Song's title not found. Please make sure you typed the Title correctly.\""
      ],
      "execution_count": 37,
      "outputs": []
    },
    {
      "cell_type": "code",
      "metadata": {
        "id": "BWACTAc6wrNK",
        "colab": {
          "base_uri": "https://localhost:8080/"
        },
        "outputId": "e6cafb0e-2e28-4f7e-eb76-2c2aa0deb2e9"
      },
      "source": [
        "recommendations('Breakeven',10)"
      ],
      "execution_count": 41,
      "outputs": [
        {
          "output_type": "execute_result",
          "data": {
            "text/plain": [
              "['Not today',\n",
              " 'Me And My Broken Heart',\n",
              " 'Here With Me',\n",
              " 'Grateful',\n",
              " 'Hysteria',\n",
              " 'Say Something',\n",
              " 'Taken',\n",
              " 'I Want to Break Free',\n",
              " \"It's My Life\",\n",
              " 'I Wish']"
            ]
          },
          "metadata": {},
          "execution_count": 41
        }
      ]
    }
  ]
}